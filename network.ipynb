{
  "cells": [
    {
      "cell_type": "markdown",
      "metadata": {
        "colab_type": "text",
        "id": "view-in-github"
      },
      "source": [
        "<a href=\"https://colab.research.google.com/github/jdavidleon/number-recognition-network/blob/main/network.ipynb\" target=\"_parent\"><img src=\"https://colab.research.google.com/assets/colab-badge.svg\" alt=\"Open In Colab\"/></a>"
      ]
    },
    {
      "cell_type": "code",
      "execution_count": null,
      "metadata": {},
      "outputs": [],
      "source": [
        "# if you haven't imported a modem needed, you can use the character  \"!\" to install dependencies E.J: !pip install tensorflow\n",
        "import tensorflow as tf\n",
        "import tensorflow_datasets as tfds\n",
        "\n",
        "import math\n",
        "import numpy as np\n",
        "import matplotlib.pyplot as plt\n",
        "import logging\n",
        "\n",
        "logger = tf.get_logger()\n",
        "logger.setLevel(logging.ERROR)"
      ]
    },
    {
      "cell_type": "code",
      "execution_count": null,
      "metadata": {},
      "outputs": [],
      "source": [
        "dataset, metadata = tfds.load('mnist', as_supervised=True, with_info=True)\n",
        "train_dataset, test_dataset = dataset['train'], dataset['test']\n",
        "\n",
        "class_names = [\n",
        "    'Zero', 'One', 'Two', 'Three', 'Four', 'Five', 'Six',\n",
        "    'Seven', 'Eight', 'Nine'\n",
        "]\n",
        "\n",
        "num_train_examples = metadata.splits['train'].num_examples\n",
        "num_test_examples = metadata.splits['test'].num_examples\n",
        "\n",
        "def normalize(images, labels):\n",
        "    images = tf.cast(images, tf.float32)\n",
        "    images /= 255\n",
        "    return images, labels\n",
        "\n",
        "train_dataset = train_dataset.map(normalize)\n",
        "test_dataset = test_dataset.map(normalize)\n",
        "\n",
        "\n",
        "#Network structure\n",
        "model = tf.keras.Sequential([\n",
        "\ttf.keras.layers.Flatten(input_shape=(28,28,1)),\n",
        "\ttf.keras.layers.Dense(64, activation=tf.nn.relu),\n",
        "\ttf.keras.layers.Dense(64, activation=tf.nn.relu),\n",
        "\ttf.keras.layers.Dense(10, activation=tf.nn.softmax)\n",
        "])"
      ]
    },
    {
      "cell_type": "code",
      "execution_count": null,
      "metadata": {},
      "outputs": [],
      "source": [
        "#Specify the functions to be used\n",
        "model.compile(\n",
        "\toptimizer='adam',\n",
        "\tloss='sparse_categorical_crossentropy',\n",
        "\tmetrics=['accuracy']\n",
        ")\n",
        "\n",
        "#Batch learning with 32 items per batch\n",
        "BATCHSIZE = 32\n",
        "train_dataset = train_dataset.repeat().shuffle(num_train_examples).batch(BATCHSIZE)\n",
        "test_dataset = test_dataset.batch(BATCHSIZE)\n",
        "\n",
        "#Perform the learning\n",
        "model.fit(\n",
        "\ttrain_dataset, epochs=5,\n",
        "\tsteps_per_epoch=math.ceil(num_train_examples/BATCHSIZE)\n",
        ")\n",
        "\n",
        "#Evaluate our trained model against the test dataset\n",
        "test_loss, test_accuracy = model.evaluate(\n",
        "\ttest_dataset, steps=math.ceil(num_test_examples/32)\n",
        ")\n",
        "\n",
        "print(\"Test results: \", test_accuracy)"
      ]
    },
    {
      "cell_type": "code",
      "execution_count": null,
      "metadata": {},
      "outputs": [],
      "source": [
        "\n",
        "#Test visualization\n",
        "for test_images, test_labels in test_dataset.take(1):\n",
        "\ttest_images = test_images.numpy()\n",
        "\ttest_labels = test_labels.numpy()\n",
        "\tpredictions = model.predict(test_images)\n",
        "\n",
        "def plot_image(i, predictions_array, true_labels, images):\n",
        "\tpredictions_array, true_label, img = predictions_array[i], true_labels[i], images[i]\n",
        "\tplt.grid(False)\n",
        "\tplt.xticks([])\n",
        "\tplt.yticks([])\n",
        "\n",
        "\tplt.imshow(img[...,0], cmap=plt.cm.binary)\n",
        "\n",
        "\tpredicted_label = np.argmax(predictions_array)\n",
        "\tif predicted_label == true_label:\n",
        "\t\tcolor = 'blue'\n",
        "\telse:\n",
        "\t\tcolor = 'red'\n",
        "\n",
        "\tplt.xlabel(\"Prediccion: {}\".format(class_names[predicted_label]), color=color)\n",
        "\n",
        "def plot_value_array(i, predictions_array, true_label):\n",
        "\tpredictions_array, true_label = predictions_array[i], true_label[i]\n",
        "\tplt.grid(False)\n",
        "\tplt.xticks([])\n",
        "\tplt.yticks([])\n",
        "\tthisplot = plt.bar(range(10), predictions_array, color=\"#888888\")\n",
        "\tplt.ylim([0,1])\n",
        "\tpredicted_label = np.argmax(predictions_array)\n",
        "\n",
        "\tthisplot[predicted_label].set_color('red')\n",
        "\tthisplot[true_label].set_color('blue')\n",
        "\n",
        "numrows=5\n",
        "numcols=3\n",
        "numimages = numrows*numcols\n",
        "\n",
        "plt.figure(figsize=(2*2*numcols, 2*numrows))\n",
        "for i in range(numimages):\n",
        "\tplt.subplot(numrows, 2*numcols, 2*i+1)\n",
        "\tplot_image(i, predictions, test_labels, test_images)\n",
        "\tplt.subplot(numrows, 2*numcols, 2*i+2)\n",
        "\tplot_value_array(i, predictions, test_labels)\n",
        "\n",
        "plt.show()"
      ]
    }
  ],
  "metadata": {
    "colab": {
      "authorship_tag": "ABX9TyObO7j/NkJrne8lujJWzJXf",
      "include_colab_link": true,
      "provenance": []
    },
    "kernelspec": {
      "display_name": "Python 3",
      "name": "python3"
    },
    "language_info": {
      "codemirror_mode": {
        "name": "ipython",
        "version": 3
      },
      "file_extension": ".py",
      "mimetype": "text/x-python",
      "name": "python",
      "nbconvert_exporter": "python",
      "pygments_lexer": "ipython3",
      "version": "3.11.0"
    }
  },
  "nbformat": 4,
  "nbformat_minor": 0
}
